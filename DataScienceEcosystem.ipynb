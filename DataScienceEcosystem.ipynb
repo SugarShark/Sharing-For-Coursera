{
 "cells": [
  {
   "cell_type": "markdown",
   "id": "42dade47-9f0f-49c3-8b3f-c6e5b8e99541",
   "metadata": {},
   "source": [
    "###### (Exercise 2 - Create markdown cell with title of the notebook)"
   ]
  },
  {
   "cell_type": "markdown",
   "id": "3cfef8fe-e5f1-4026-b962-46e46315395c",
   "metadata": {},
   "source": [
    "# Data Science Tools and Ecosystem"
   ]
  },
  {
   "cell_type": "markdown",
   "id": "5dd9e75a-3c56-4339-8d07-5a9997d4deae",
   "metadata": {},
   "source": [
    "###### (Exercise 11 - Create a markdown cell to indicate the Author's name)\n",
    "\n",
    "## Author\n",
    "Tim Crespin"
   ]
  },
  {
   "cell_type": "markdown",
   "id": "7c86ba2e-4da1-4a33-b232-11164ccdbd1b",
   "metadata": {},
   "source": [
    "###### (Exercise 3 - Create a markdown cell for an introduction)\r\n"
   ]
  },
  {
   "cell_type": "markdown",
   "id": "37738deb-93cb-47b6-8245-4e45bdd9908e",
   "metadata": {},
   "source": [
    "In this notebook, Data Science Tools and Ecosystem are summarized."
   ]
  },
  {
   "cell_type": "markdown",
   "id": "dc5670ff-3ed8-477e-9b88-c636619776a5",
   "metadata": {},
   "source": [
    "###### (Exercise 10 - Insert a markdown cell to list Objectives\n",
    "**Objectives:**\n",
    "- List popular languages for Data Science\n",
    "- List data science libraries\n",
    "- List data Science tools in a table\n",
    "- Introduce arithmetic expressions with examples"
   ]
  },
  {
   "cell_type": "markdown",
   "id": "9b98f619-47cb-4928-9e8a-71208941d6b3",
   "metadata": {},
   "source": [
    "###### (Exercise 4 - Create a markdown cell to list data science languages"
   ]
  },
  {
   "cell_type": "markdown",
   "id": "78a9805c-6f3e-4305-8df0-b104fd74d575",
   "metadata": {},
   "source": [
    "Some of the popular languages that Data Scientists use are:\n",
    "1. Python\n",
    "2. R\n",
    "3. SQL\r",
    "4. \n",
    "Scal\n",
    "5.  Jav\n",
    "6.  C+\n",
    "7.  Julis\r\n"
   ]
  },
  {
   "cell_type": "markdown",
   "id": "957788ff-642f-42a0-9c55-33d4f78b1980",
   "metadata": {},
   "source": [
    "###### (Exercise 5 - Create a markdown cell to list data science libraries)\r\n"
   ]
  },
  {
   "cell_type": "markdown",
   "id": "52453ff7-7fe7-4ab9-a0b9-7511e83470f4",
   "metadata": {},
   "source": [
    "Some of the commonly used libraries used by Data Scientists include:\n",
    "1. NumPy\n",
    "2. Pandas \n",
    "3. Matplotlib\n",
    "4. Seaborn\n",
    "5. Scikit-learn\n",
    "6. Keras\n",
    "7. TensorFlow"
   ]
  },
  {
   "cell_type": "markdown",
   "id": "4a48520d-03d2-4684-82e5-7849d8fbf277",
   "metadata": {},
   "source": [
    "###### (Exercise 6 - Create a markdown cell with a table of Data Science tools)"
   ]
  },
  {
   "cell_type": "markdown",
   "id": "066e3b08-84bb-4efb-bad5-fbf7348a0dc6",
   "metadata": {},
   "source": [
    "| Data Science Tools |\n",
    "|--------------------|\n",
    "| Jupyter Notebooks  |\n",
    "| RStudio            |\n",
    "| IBM Watson Studio  |"
   ]
  },
  {
   "cell_type": "markdown",
   "id": "15854501-ebac-4dca-be20-03fabd69c8dc",
   "metadata": {},
   "source": [
    "###### (Exercise 7 - Create a markdown cell introducing arithmetic expression examples)\n",
    "### Below are a few examples of evaluating arithmetic expressions in Python.\n"
   ]
  },
  {
   "cell_type": "markdown",
   "id": "f45f9da1-4104-47e5-b633-e865dc016a6a",
   "metadata": {},
   "source": [
    "###### (Exercise 8 - Create a code cell to multiply and add numbers)"
   ]
  },
  {
   "cell_type": "code",
   "execution_count": 1,
   "id": "225a4f99-eb11-4c26-a345-acb243da1d58",
   "metadata": {},
   "outputs": [
    {
     "data": {
      "text/plain": [
       "17"
      ]
     },
     "execution_count": 1,
     "metadata": {},
     "output_type": "execute_result"
    }
   ],
   "source": [
    "#This a simple arithmetic expression to mutiply then add integers.\n",
    "(3*4)+5\n"
   ]
  },
  {
   "cell_type": "markdown",
   "id": "ec752117-62f1-4bab-b671-54caedf2e6db",
   "metadata": {},
   "source": [
    "###### (Exercise 9 - Create a code cell to convert minutes to hours)"
   ]
  },
  {
   "cell_type": "code",
   "execution_count": 2,
   "id": "341e32df-dedf-4516-8fd9-a68744542a2a",
   "metadata": {},
   "outputs": [
    {
     "data": {
      "text/plain": [
       "3.3333333333333335"
      ]
     },
     "execution_count": 2,
     "metadata": {},
     "output_type": "execute_result"
    }
   ],
   "source": [
    "#  This will convert 200 minutes to hours by diving by 60\n",
    "200/60"
   ]
  }
 ],
 "metadata": {
  "kernelspec": {
   "display_name": "Python 3 (ipykernel)",
   "language": "python",
   "name": "python3"
  },
  "language_info": {
   "codemirror_mode": {
    "name": "ipython",
    "version": 3
   },
   "file_extension": ".py",
   "mimetype": "text/x-python",
   "name": "python",
   "nbconvert_exporter": "python",
   "pygments_lexer": "ipython3",
   "version": "3.11.7"
  }
 },
 "nbformat": 4,
 "nbformat_minor": 5
}
